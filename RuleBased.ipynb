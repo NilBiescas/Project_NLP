{
 "cells": [
  {
   "cell_type": "code",
   "execution_count": 1,
   "metadata": {},
   "outputs": [],
   "source": [
    "import pandas as pd\n",
    "import string\n",
    "\n",
    "from Utils.labels import get_label_in_text\n",
    "from Utils.extract_words import *\n",
    "from Utils.evaluation import *\n",
    "import nltk"
   ]
  },
  {
   "cell_type": "code",
   "execution_count": 2,
   "metadata": {},
   "outputs": [],
   "source": [
    "df = pd.read_json(\"Data.json\")\n",
    "with open('./Triggers_Cues/uncertainty.txt', 'r') as file:\n",
    "    uncertainty_cues = [line.strip() for line in file]\n",
    "\n",
    "with open('./Triggers_Cues/negations.txt', 'r') as file:\n",
    "    negations_cues = [line.strip() for line in file]"
   ]
  },
  {
   "cell_type": "code",
   "execution_count": 7,
   "metadata": {},
   "outputs": [],
   "source": [
    "all_labels = pd.concat([get_label_in_text(df, i, False) for i in range(len(df))])\n",
    "NEG_LABELS = all_labels[all_labels[\"Label\"] == \"NEG\"]\n",
    "UNC_LABELS = all_labels[all_labels[\"Label\"] == \"UNC\"]"
   ]
  },
  {
   "cell_type": "code",
   "execution_count": 8,
   "metadata": {},
   "outputs": [],
   "source": [
    "#sets containing the negations and uncertainty triggers find in the dataset.\n",
    "NEG_triggers = set(NEG_LABELS['Text'])\n",
    "UNC_triggers = set(UNC_LABELS[\"Text\"])\n",
    "#The final rules are based on these and the hand written trigers."
   ]
  },
  {
   "cell_type": "code",
   "execution_count": 23,
   "metadata": {},
   "outputs": [],
   "source": [
    "import string\n",
    "\n",
    "def identify_scope(text, End_sentence, End_word):\n",
    "\n",
    "    sentences_of_text = []\n",
    "    sentence = []\n",
    "\n",
    "    negation_found    = False\n",
    "    uncertainti_found = False\n",
    "\n",
    "    all_words = list(get_nextWord(text, End_word))\n",
    "    for _, token in all_words:\n",
    "        tag = (token, \"other\")\n",
    "\n",
    "        if token in negations_cues:\n",
    "            negation_found    = True\n",
    "            tag = (token, \"NEG\")\n",
    "\n",
    "        elif token in uncertainty_cues:\n",
    "            uncertainti_found = True\n",
    "            tag = (token, \"UNC\")\n",
    "\n",
    "        sentence.append(tag)\n",
    "\n",
    "        if any(char in token for char in End_sentence):  #Look if any char in the token contains an end of sentence character.\n",
    "\n",
    "            if (negation_found):\n",
    "              sentence = [(tag[0], \"NSCO\") if tag[1] == 'other' else tag for tag in sentence]\n",
    "\n",
    "            elif (uncertainti_found):\n",
    "              sentence = [(tag[0], \"USCO\") if tag[1] == 'other' else tag for tag in sentence]\n",
    "\n",
    "            sentences_of_text.extend(sentence)\n",
    "\n",
    "            sentence          = []\n",
    "            negation_found    = False\n",
    "            uncertainti_found = False\n",
    "    # Devolver la lista de oraciones con la negación y su scope\n",
    "    return sentences_of_text"
   ]
  },
  {
   "cell_type": "code",
   "execution_count": 24,
   "metadata": {},
   "outputs": [],
   "source": [
    "End_sentence   = '!.?,;:'   #These are possible punctuations that can appear in the words return by get_nextWord\n",
    "Difference     = set(string.punctuation) - set(End_sentence)"
   ]
  },
  {
   "cell_type": "code",
   "execution_count": 25,
   "metadata": {},
   "outputs": [],
   "source": [
    "End_word = ''             #What we consider as a delimeter for defining what is a word\n",
    "for char in Difference:\n",
    "    End_word += char"
   ]
  },
  {
   "cell_type": "code",
   "execution_count": 26,
   "metadata": {},
   "outputs": [],
   "source": [
    "y_pred = [identify_scope(df[\"data\"][i][\"text\"], End_sentence, End_word) for i in range(len(df))]\n",
    "y_true = [label_text(df, i, End_word) for i in range(len(df))]"
   ]
  },
  {
   "cell_type": "code",
   "execution_count": 27,
   "metadata": {},
   "outputs": [],
   "source": [
    "y_pred_ext = []\n",
    "y_true_ext = []\n",
    "for pred, true in zip(y_pred, y_true):\n",
    "    len_diff = len(true) - len(pred)\n",
    "    if len_diff > 0:\n",
    "        pred.extend([(' ', 'other')] * len_diff)\n",
    "    if len_diff < 0:\n",
    "        true.extend([(' ', 'other')] * (abs(len_diff)))\n",
    "    y_pred_ext.append(pred)\n",
    "    y_true_ext.append(true)"
   ]
  },
  {
   "cell_type": "code",
   "execution_count": 28,
   "metadata": {},
   "outputs": [],
   "source": [
    "def sent2labels(sent):\n",
    "    return [label for _, label in sent]\n",
    "\n",
    "def sent2tokens(sent):\n",
    "    return [token for token, _, in sent]\n"
   ]
  },
  {
   "cell_type": "code",
   "execution_count": 29,
   "metadata": {},
   "outputs": [],
   "source": [
    "y_true_labels = [sent2labels(sent) for sent in y_true_ext]\n",
    "y_pred_labels = [sent2labels(sent) for sent in y_pred_ext]"
   ]
  },
  {
   "cell_type": "code",
   "execution_count": null,
   "metadata": {},
   "outputs": [],
   "source": [
    "for i, j in zip (y_true_labels[0], y_pred_labels[0]):\n",
    "    print(i,'\\t\\t\\t\\t', j)"
   ]
  },
  {
   "cell_type": "code",
   "execution_count": 31,
   "metadata": {},
   "outputs": [
    {
     "name": "stdout",
     "output_type": "stream",
     "text": [
      "              precision    recall  f1-score   support\n",
      "\n",
      "         NEG       0.67      0.88      0.76       627\n",
      "        NSCO       0.29      0.84      0.43      1703\n",
      "         UNC       0.53      0.54      0.53       116\n",
      "        USCO       0.21      0.65      0.32       329\n",
      "       other       0.99      0.86      0.92     31685\n",
      "\n",
      "   micro avg       0.85      0.85      0.85     34460\n",
      "   macro avg       0.54      0.75      0.59     34460\n",
      "weighted avg       0.94      0.85      0.88     34460\n",
      " samples avg       0.85      0.85      0.85     34460\n",
      "\n"
     ]
    }
   ],
   "source": [
    "print(bio_classification_report(y_true_labels[:50], y_pred_labels[:50]))"
   ]
  }
 ],
 "metadata": {
  "kernelspec": {
   "display_name": "base",
   "language": "python",
   "name": "python3"
  },
  "language_info": {
   "codemirror_mode": {
    "name": "ipython",
    "version": 3
   },
   "file_extension": ".py",
   "mimetype": "text/x-python",
   "name": "python",
   "nbconvert_exporter": "python",
   "pygments_lexer": "ipython3",
   "version": "3.9.13"
  },
  "orig_nbformat": 4
 },
 "nbformat": 4,
 "nbformat_minor": 2
}
