{
 "cells": [
  {
   "cell_type": "code",
   "execution_count": 1,
   "metadata": {},
   "outputs": [],
   "source": [
    "import pandas as pd\n",
    "import string\n",
    "\n",
    "from Utils.labels import *\n",
    "from Utils.extract_words import *\n",
    "from Utils.evaluation import *\n",
    "import nltk"
   ]
  },
  {
   "cell_type": "code",
   "execution_count": 2,
   "metadata": {},
   "outputs": [],
   "source": [
    "df = pd.read_json(\"Data.json\")\n",
    "with open('./Triggers_Cues/uncertainty.txt', 'r') as file:\n",
    "    uncertainty_cues = [line.strip() for line in file]\n",
    "\n",
    "with open('./Triggers_Cues/negations.txt', 'r') as file:\n",
    "    negations_cues = [line.strip() for line in file]"
   ]
  },
  {
   "cell_type": "code",
   "execution_count": 3,
   "metadata": {},
   "outputs": [],
   "source": [
    "import string\n",
    "\n",
    "def identify_scope(text, End_sentence, End_word):\n",
    "\n",
    "    sentences_of_text = []\n",
    "    sentence = []\n",
    "\n",
    "    negation_found    = False\n",
    "    uncertainti_found = False\n",
    "\n",
    "    all_words = list(get_nextWord(text, End_word))\n",
    "    for _, token in all_words:\n",
    "        tag = (token, \"other\")\n",
    "\n",
    "        if token in negations_cues:\n",
    "            negation_found    = True\n",
    "            tag = (token, \"NEG\")\n",
    "\n",
    "        elif token in uncertainty_cues:\n",
    "            uncertainti_found = True\n",
    "            tag = (token, \"UNC\")\n",
    "\n",
    "        sentence.append(tag)\n",
    "\n",
    "        if any(char in token for char in End_sentence):  #Look if any char in the token contains an end of sentence character.\n",
    "\n",
    "            if (negation_found):\n",
    "              sentence = [(tag[0], \"NSCO\") if tag[1] == 'other' else tag for tag in sentence]\n",
    "\n",
    "            elif (uncertainti_found):\n",
    "              sentence = [(tag[0], \"USCO\") if tag[1] == 'other' else tag for tag in sentence]\n",
    "\n",
    "            sentences_of_text.extend(sentence)\n",
    "\n",
    "            sentence          = []\n",
    "            negation_found    = False\n",
    "            uncertainti_found = False\n",
    "    # Devolver la lista de oraciones con la negación y su scope\n",
    "    return sentences_of_text"
   ]
  },
  {
   "cell_type": "code",
   "execution_count": 197,
   "metadata": {},
   "outputs": [],
   "source": [
    "End_sentence   = '!.?,;:'   #These are possible punctuations that can appear in the words return by get_nextWord\n",
    "Difference     = set(string.punctuation) - set(End_sentence)"
   ]
  },
  {
   "cell_type": "code",
   "execution_count": 198,
   "metadata": {},
   "outputs": [],
   "source": [
    "End_word = ''             #What we consider as a delimeter for defining what is a word\n",
    "for char in Difference:\n",
    "    End_word += char"
   ]
  },
  {
   "cell_type": "code",
   "execution_count": 199,
   "metadata": {},
   "outputs": [],
   "source": [
    "y_pred = [identify_scope(df[\"data\"][i][\"text\"], End_sentence, End_word) for i in range(len(df))]\n",
    "y_true = [label_text(df, i, End_word) for i in range(len(df))]"
   ]
  },
  {
   "cell_type": "code",
   "execution_count": 200,
   "metadata": {},
   "outputs": [],
   "source": [
    "y_pred_ext = []\n",
    "y_true_ext = []\n",
    "for pred, true in zip(y_pred, y_true):\n",
    "    len_diff = len(true) - len(pred)\n",
    "    if len_diff > 0:\n",
    "        pred.extend([(' ', 'other')] * len_diff)\n",
    "    if len_diff < 0:\n",
    "        true.extend([(' ', 'other')] * (abs(len_diff)))\n",
    "    y_pred_ext.append(pred)\n",
    "    y_true_ext.append(true)"
   ]
  },
  {
   "cell_type": "code",
   "execution_count": 194,
   "metadata": {},
   "outputs": [],
   "source": [
    "def sent2labels(sent):\n",
    "    return [label for _, label in sent]\n",
    "\n",
    "def sent2tokens(sent):\n",
    "    return [token for token, _, in sent]\n"
   ]
  },
  {
   "cell_type": "code",
   "execution_count": 201,
   "metadata": {},
   "outputs": [],
   "source": [
    "y_true_labels = [sent2labels(sent) for sent in y_true_ext]\n",
    "y_pred_labels = [sent2labels(sent) for sent in y_pred_ext]"
   ]
  },
  {
   "cell_type": "code",
   "execution_count": 202,
   "metadata": {},
   "outputs": [
    {
     "name": "stdout",
     "output_type": "stream",
     "text": [
      "              precision    recall  f1-score   support\n",
      "\n",
      "         NEG       0.71      0.88      0.78      4862\n",
      "        NSCO       0.32      0.87      0.47     13915\n",
      "         UNC       0.53      0.51      0.52       743\n",
      "        USCO       0.18      0.65      0.29      1846\n",
      "       other       0.99      0.86      0.92    219399\n",
      "\n",
      "   micro avg       0.86      0.86      0.86    240765\n",
      "   macro avg       0.55      0.75      0.60    240765\n",
      "weighted avg       0.94      0.86      0.88    240765\n",
      " samples avg       0.86      0.86      0.86    240765\n",
      "\n"
     ]
    }
   ],
   "source": [
    "print(bio_classification_report(y_true_labels, y_pred_labels))"
   ]
  }
 ],
 "metadata": {
  "kernelspec": {
   "display_name": "base",
   "language": "python",
   "name": "python3"
  },
  "language_info": {
   "codemirror_mode": {
    "name": "ipython",
    "version": 3
   },
   "file_extension": ".py",
   "mimetype": "text/x-python",
   "name": "python",
   "nbconvert_exporter": "python",
   "pygments_lexer": "ipython3",
   "version": "3.9.13"
  },
  "orig_nbformat": 4
 },
 "nbformat": 4,
 "nbformat_minor": 2
}
